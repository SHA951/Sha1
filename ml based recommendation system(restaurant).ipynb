{
 "cells": [
  {
   "cell_type": "markdown",
   "id": "2caf7fe5-3ab3-44bb-99b0-9ff63255030a",
   "metadata": {},
   "source": [
    "# Importing necessary packages"
   ]
  },
  {
   "cell_type": "code",
   "execution_count": 1,
   "id": "6eb7c6b9-eca5-4e4e-b8d4-4d206555d166",
   "metadata": {},
   "outputs": [],
   "source": [
    "import pandas as pd\n",
    "import json\n",
    "import matplotlib.pyplot as plt\n",
    "from sklearn.feature_extraction.text import TfidfVectorizer\n",
    "from sklearn.metrics.pairwise import cosine_similarity"
   ]
  },
  {
   "cell_type": "code",
   "execution_count": 2,
   "id": "929f712c-999e-40f6-ae6e-837fcb5749bd",
   "metadata": {},
   "outputs": [],
   "source": [
    "import numpy as np\n",
    "import nltk\n",
    "import re\n",
    "import spacy\n",
    "from textblob import TextBlob\n",
    "from wordcloud import WordCloud"
   ]
  },
  {
   "cell_type": "markdown",
   "id": "a752f3a7-3650-42fd-92ab-eb5ac5e5857c",
   "metadata": {},
   "source": [
    "# Loading dataset"
   ]
  },
  {
   "cell_type": "code",
   "execution_count": 4,
   "id": "614589c4-cd14-4cd3-996a-3c4f890f2ed3",
   "metadata": {},
   "outputs": [
    {
     "name": "stderr",
     "output_type": "stream",
     "text": [
      "<>:3: SyntaxWarning: invalid escape sequence '\\Y'\n",
      "<>:3: SyntaxWarning: invalid escape sequence '\\Y'\n",
      "C:\\Users\\Admin\\AppData\\Local\\Temp\\ipykernel_28100\\3346873701.py:3: SyntaxWarning: invalid escape sequence '\\Y'\n",
      "  with open(\"E:\\Yelp JSON\\yelp_dataset\\yelp_academic_dataset_business.json\", \"r\", encoding=\"utf-8\") as file:\n"
     ]
    }
   ],
   "source": [
    "# Load Business Data\n",
    "business_data = []\n",
    "with open(\"E:\\Yelp JSON\\yelp_dataset\\yelp_academic_dataset_business.json\", \"r\", encoding=\"utf-8\") as file:\n",
    "    for line in file:\n",
    "        try:\n",
    "            business_data.append(json.loads(line))\n",
    "        except json.JSONDecodeError as e:\n",
    "            print(f\"Skipping malformed line due to error: {e}\")\n",
    "\n",
    "businesses = pd.DataFrame(business_data)"
   ]
  },
  {
   "cell_type": "code",
   "execution_count": 6,
   "id": "28b2d570-11b9-499e-ad50-098e455246df",
   "metadata": {},
   "outputs": [
    {
     "name": "stdout",
     "output_type": "stream",
     "text": [
      "Skipping line 1612228 due to error: Unterminated string starting at: line 1 column 162 (char 161)\n",
      "Successfully loaded 1612228 lines. Skipped 1 bad lines.\n"
     ]
    }
   ],
   "source": [
    "data1 = []\n",
    "bad_lines = 0\n",
    "\n",
    "file_path = r\"E:\\Yelp JSON\\yelp_dataset\\yelp_academic_dataset_review.json\"\n",
    "\n",
    "with open(file_path, 'r', encoding='utf-8') as f:\n",
    "    for i, line in enumerate(f):\n",
    "        try:\n",
    "            data1.append(json.loads(line))\n",
    "        except json.JSONDecodeError as e:\n",
    "            print(f\"Skipping line {i} due to error: {e}\")\n",
    "            bad_lines += 1\n",
    "\n",
    "print(f\"Successfully loaded {len(data1)} lines. Skipped {bad_lines} bad lines.\")\n",
    "reviews = pd.DataFrame(data1)"
   ]
  },
  {
   "cell_type": "markdown",
   "id": "a5a7f330-60e4-438f-99a9-9254aaca5458",
   "metadata": {},
   "source": [
    "# Displaying first 3 rows of both business and review dataset"
   ]
  },
  {
   "cell_type": "code",
   "execution_count": 7,
   "id": "f3a78eb7-ba4a-4695-9e1c-b77a4de764ea",
   "metadata": {},
   "outputs": [
    {
     "data": {
      "text/html": [
       "<div>\n",
       "<style scoped>\n",
       "    .dataframe tbody tr th:only-of-type {\n",
       "        vertical-align: middle;\n",
       "    }\n",
       "\n",
       "    .dataframe tbody tr th {\n",
       "        vertical-align: top;\n",
       "    }\n",
       "\n",
       "    .dataframe thead th {\n",
       "        text-align: right;\n",
       "    }\n",
       "</style>\n",
       "<table border=\"1\" class=\"dataframe\">\n",
       "  <thead>\n",
       "    <tr style=\"text-align: right;\">\n",
       "      <th></th>\n",
       "      <th>business_id</th>\n",
       "      <th>name</th>\n",
       "      <th>address</th>\n",
       "      <th>city</th>\n",
       "      <th>state</th>\n",
       "      <th>postal_code</th>\n",
       "      <th>latitude</th>\n",
       "      <th>longitude</th>\n",
       "      <th>stars</th>\n",
       "      <th>review_count</th>\n",
       "      <th>is_open</th>\n",
       "      <th>attributes</th>\n",
       "      <th>categories</th>\n",
       "      <th>hours</th>\n",
       "    </tr>\n",
       "  </thead>\n",
       "  <tbody>\n",
       "    <tr>\n",
       "      <th>0</th>\n",
       "      <td>Pns2l4eNsfO8kk83dixA6A</td>\n",
       "      <td>Abby Rappoport, LAC, CMQ</td>\n",
       "      <td>1616 Chapala St, Ste 2</td>\n",
       "      <td>Santa Barbara</td>\n",
       "      <td>CA</td>\n",
       "      <td>93101</td>\n",
       "      <td>34.426679</td>\n",
       "      <td>-119.711197</td>\n",
       "      <td>5.0</td>\n",
       "      <td>7</td>\n",
       "      <td>0</td>\n",
       "      <td>{'ByAppointmentOnly': 'True'}</td>\n",
       "      <td>Doctors, Traditional Chinese Medicine, Naturop...</td>\n",
       "      <td>None</td>\n",
       "    </tr>\n",
       "    <tr>\n",
       "      <th>1</th>\n",
       "      <td>mpf3x-BjTdTEA3yCZrAYPw</td>\n",
       "      <td>The UPS Store</td>\n",
       "      <td>87 Grasso Plaza Shopping Center</td>\n",
       "      <td>Affton</td>\n",
       "      <td>MO</td>\n",
       "      <td>63123</td>\n",
       "      <td>38.551126</td>\n",
       "      <td>-90.335695</td>\n",
       "      <td>3.0</td>\n",
       "      <td>15</td>\n",
       "      <td>1</td>\n",
       "      <td>{'BusinessAcceptsCreditCards': 'True'}</td>\n",
       "      <td>Shipping Centers, Local Services, Notaries, Ma...</td>\n",
       "      <td>{'Monday': '0:0-0:0', 'Tuesday': '8:0-18:30', ...</td>\n",
       "    </tr>\n",
       "    <tr>\n",
       "      <th>2</th>\n",
       "      <td>tUFrWirKiKi_TAnsVWINQQ</td>\n",
       "      <td>Target</td>\n",
       "      <td>5255 E Broadway Blvd</td>\n",
       "      <td>Tucson</td>\n",
       "      <td>AZ</td>\n",
       "      <td>85711</td>\n",
       "      <td>32.223236</td>\n",
       "      <td>-110.880452</td>\n",
       "      <td>3.5</td>\n",
       "      <td>22</td>\n",
       "      <td>0</td>\n",
       "      <td>{'BikeParking': 'True', 'BusinessAcceptsCredit...</td>\n",
       "      <td>Department Stores, Shopping, Fashion, Home &amp; G...</td>\n",
       "      <td>{'Monday': '8:0-22:0', 'Tuesday': '8:0-22:0', ...</td>\n",
       "    </tr>\n",
       "  </tbody>\n",
       "</table>\n",
       "</div>"
      ],
      "text/plain": [
       "              business_id                      name  \\\n",
       "0  Pns2l4eNsfO8kk83dixA6A  Abby Rappoport, LAC, CMQ   \n",
       "1  mpf3x-BjTdTEA3yCZrAYPw             The UPS Store   \n",
       "2  tUFrWirKiKi_TAnsVWINQQ                    Target   \n",
       "\n",
       "                           address           city state postal_code  \\\n",
       "0           1616 Chapala St, Ste 2  Santa Barbara    CA       93101   \n",
       "1  87 Grasso Plaza Shopping Center         Affton    MO       63123   \n",
       "2             5255 E Broadway Blvd         Tucson    AZ       85711   \n",
       "\n",
       "    latitude   longitude  stars  review_count  is_open  \\\n",
       "0  34.426679 -119.711197    5.0             7        0   \n",
       "1  38.551126  -90.335695    3.0            15        1   \n",
       "2  32.223236 -110.880452    3.5            22        0   \n",
       "\n",
       "                                          attributes  \\\n",
       "0                      {'ByAppointmentOnly': 'True'}   \n",
       "1             {'BusinessAcceptsCreditCards': 'True'}   \n",
       "2  {'BikeParking': 'True', 'BusinessAcceptsCredit...   \n",
       "\n",
       "                                          categories  \\\n",
       "0  Doctors, Traditional Chinese Medicine, Naturop...   \n",
       "1  Shipping Centers, Local Services, Notaries, Ma...   \n",
       "2  Department Stores, Shopping, Fashion, Home & G...   \n",
       "\n",
       "                                               hours  \n",
       "0                                               None  \n",
       "1  {'Monday': '0:0-0:0', 'Tuesday': '8:0-18:30', ...  \n",
       "2  {'Monday': '8:0-22:0', 'Tuesday': '8:0-22:0', ...  "
      ]
     },
     "execution_count": 7,
     "metadata": {},
     "output_type": "execute_result"
    }
   ],
   "source": [
    "businesses.head(3)"
   ]
  },
  {
   "cell_type": "code",
   "execution_count": 8,
   "id": "bc6098ca-5137-4fbc-8ad6-7505eec64c50",
   "metadata": {},
   "outputs": [
    {
     "data": {
      "text/html": [
       "<div>\n",
       "<style scoped>\n",
       "    .dataframe tbody tr th:only-of-type {\n",
       "        vertical-align: middle;\n",
       "    }\n",
       "\n",
       "    .dataframe tbody tr th {\n",
       "        vertical-align: top;\n",
       "    }\n",
       "\n",
       "    .dataframe thead th {\n",
       "        text-align: right;\n",
       "    }\n",
       "</style>\n",
       "<table border=\"1\" class=\"dataframe\">\n",
       "  <thead>\n",
       "    <tr style=\"text-align: right;\">\n",
       "      <th></th>\n",
       "      <th>review_id</th>\n",
       "      <th>user_id</th>\n",
       "      <th>business_id</th>\n",
       "      <th>stars</th>\n",
       "      <th>useful</th>\n",
       "      <th>funny</th>\n",
       "      <th>cool</th>\n",
       "      <th>text</th>\n",
       "      <th>date</th>\n",
       "    </tr>\n",
       "  </thead>\n",
       "  <tbody>\n",
       "    <tr>\n",
       "      <th>0</th>\n",
       "      <td>KU_O5udG6zpxOg-VcAEodg</td>\n",
       "      <td>mh_-eMZ6K5RLWhZyISBhwA</td>\n",
       "      <td>XQfwVwDr-v0ZS3_CbbE5Xw</td>\n",
       "      <td>3.0</td>\n",
       "      <td>0</td>\n",
       "      <td>0</td>\n",
       "      <td>0</td>\n",
       "      <td>If you decide to eat here, just be aware it is...</td>\n",
       "      <td>2018-07-07 22:09:11</td>\n",
       "    </tr>\n",
       "    <tr>\n",
       "      <th>1</th>\n",
       "      <td>BiTunyQ73aT9WBnpR9DZGw</td>\n",
       "      <td>OyoGAe7OKpv6SyGZT5g77Q</td>\n",
       "      <td>7ATYjTIgM3jUlt4UM3IypQ</td>\n",
       "      <td>5.0</td>\n",
       "      <td>1</td>\n",
       "      <td>0</td>\n",
       "      <td>1</td>\n",
       "      <td>I've taken a lot of spin classes over the year...</td>\n",
       "      <td>2012-01-03 15:28:18</td>\n",
       "    </tr>\n",
       "    <tr>\n",
       "      <th>2</th>\n",
       "      <td>saUsX_uimxRlCVr67Z4Jig</td>\n",
       "      <td>8g_iMtfSiwikVnbP2etR0A</td>\n",
       "      <td>YjUWPpI6HXG530lwP-fb2A</td>\n",
       "      <td>3.0</td>\n",
       "      <td>0</td>\n",
       "      <td>0</td>\n",
       "      <td>0</td>\n",
       "      <td>Family diner. Had the buffet. Eclectic assortm...</td>\n",
       "      <td>2014-02-05 20:30:30</td>\n",
       "    </tr>\n",
       "  </tbody>\n",
       "</table>\n",
       "</div>"
      ],
      "text/plain": [
       "                review_id                 user_id             business_id  \\\n",
       "0  KU_O5udG6zpxOg-VcAEodg  mh_-eMZ6K5RLWhZyISBhwA  XQfwVwDr-v0ZS3_CbbE5Xw   \n",
       "1  BiTunyQ73aT9WBnpR9DZGw  OyoGAe7OKpv6SyGZT5g77Q  7ATYjTIgM3jUlt4UM3IypQ   \n",
       "2  saUsX_uimxRlCVr67Z4Jig  8g_iMtfSiwikVnbP2etR0A  YjUWPpI6HXG530lwP-fb2A   \n",
       "\n",
       "   stars  useful  funny  cool  \\\n",
       "0    3.0       0      0     0   \n",
       "1    5.0       1      0     1   \n",
       "2    3.0       0      0     0   \n",
       "\n",
       "                                                text                 date  \n",
       "0  If you decide to eat here, just be aware it is...  2018-07-07 22:09:11  \n",
       "1  I've taken a lot of spin classes over the year...  2012-01-03 15:28:18  \n",
       "2  Family diner. Had the buffet. Eclectic assortm...  2014-02-05 20:30:30  "
      ]
     },
     "execution_count": 8,
     "metadata": {},
     "output_type": "execute_result"
    }
   ],
   "source": [
    "reviews.head(3)"
   ]
  },
  {
   "cell_type": "markdown",
   "id": "0a9e5402-efad-44a0-afbe-cd13048b07b3",
   "metadata": {},
   "source": [
    "# Cleaned review dataset"
   ]
  },
  {
   "cell_type": "code",
   "execution_count": 9,
   "id": "4db8cdae-ee43-4ce6-88d2-80bf9aaf9f99",
   "metadata": {},
   "outputs": [],
   "source": [
    "reviews.to_json(\"cleaned_reviews.json\", orient=\"records\", lines=True)\n",
    "review=pd.read_json(r\"E:\\cleaned_reviews.json\",lines=True)"
   ]
  },
  {
   "cell_type": "code",
   "execution_count": 10,
   "id": "374553ab-d4b7-48dd-811c-ab288ee2f9e8",
   "metadata": {},
   "outputs": [
    {
     "data": {
      "text/html": [
       "<div>\n",
       "<style scoped>\n",
       "    .dataframe tbody tr th:only-of-type {\n",
       "        vertical-align: middle;\n",
       "    }\n",
       "\n",
       "    .dataframe tbody tr th {\n",
       "        vertical-align: top;\n",
       "    }\n",
       "\n",
       "    .dataframe thead th {\n",
       "        text-align: right;\n",
       "    }\n",
       "</style>\n",
       "<table border=\"1\" class=\"dataframe\">\n",
       "  <thead>\n",
       "    <tr style=\"text-align: right;\">\n",
       "      <th></th>\n",
       "      <th>review_id</th>\n",
       "      <th>user_id</th>\n",
       "      <th>business_id</th>\n",
       "      <th>stars</th>\n",
       "      <th>useful</th>\n",
       "      <th>funny</th>\n",
       "      <th>cool</th>\n",
       "      <th>text</th>\n",
       "      <th>date</th>\n",
       "    </tr>\n",
       "  </thead>\n",
       "  <tbody>\n",
       "    <tr>\n",
       "      <th>0</th>\n",
       "      <td>KU_O5udG6zpxOg-VcAEodg</td>\n",
       "      <td>mh_-eMZ6K5RLWhZyISBhwA</td>\n",
       "      <td>XQfwVwDr-v0ZS3_CbbE5Xw</td>\n",
       "      <td>3</td>\n",
       "      <td>0</td>\n",
       "      <td>0</td>\n",
       "      <td>0</td>\n",
       "      <td>If you decide to eat here, just be aware it is...</td>\n",
       "      <td>2018-07-07 22:09:11</td>\n",
       "    </tr>\n",
       "    <tr>\n",
       "      <th>1</th>\n",
       "      <td>BiTunyQ73aT9WBnpR9DZGw</td>\n",
       "      <td>OyoGAe7OKpv6SyGZT5g77Q</td>\n",
       "      <td>7ATYjTIgM3jUlt4UM3IypQ</td>\n",
       "      <td>5</td>\n",
       "      <td>1</td>\n",
       "      <td>0</td>\n",
       "      <td>1</td>\n",
       "      <td>I've taken a lot of spin classes over the year...</td>\n",
       "      <td>2012-01-03 15:28:18</td>\n",
       "    </tr>\n",
       "  </tbody>\n",
       "</table>\n",
       "</div>"
      ],
      "text/plain": [
       "                review_id                 user_id             business_id  \\\n",
       "0  KU_O5udG6zpxOg-VcAEodg  mh_-eMZ6K5RLWhZyISBhwA  XQfwVwDr-v0ZS3_CbbE5Xw   \n",
       "1  BiTunyQ73aT9WBnpR9DZGw  OyoGAe7OKpv6SyGZT5g77Q  7ATYjTIgM3jUlt4UM3IypQ   \n",
       "\n",
       "   stars  useful  funny  cool  \\\n",
       "0      3       0      0     0   \n",
       "1      5       1      0     1   \n",
       "\n",
       "                                                text                date  \n",
       "0  If you decide to eat here, just be aware it is... 2018-07-07 22:09:11  \n",
       "1  I've taken a lot of spin classes over the year... 2012-01-03 15:28:18  "
      ]
     },
     "execution_count": 10,
     "metadata": {},
     "output_type": "execute_result"
    }
   ],
   "source": [
    "review.head(2)"
   ]
  },
  {
   "cell_type": "markdown",
   "id": "aa2c1c95-279d-438a-91ae-2a4f1cb39916",
   "metadata": {},
   "source": [
    "# Two datasets are merged based on business id"
   ]
  },
  {
   "cell_type": "code",
   "execution_count": 11,
   "id": "746452ca-a678-47b6-9b0b-037315cc013f",
   "metadata": {},
   "outputs": [],
   "source": [
    "merged_df = pd.merge(review, businesses, on='business_id', how='inner')"
   ]
  },
  {
   "cell_type": "markdown",
   "id": "e3611ea0-6ae9-4db7-8cd3-94d3a1ce746f",
   "metadata": {},
   "source": [
    "# First four rows are viewed"
   ]
  },
  {
   "cell_type": "code",
   "execution_count": 12,
   "id": "23bc7936-e114-453c-a38a-ed4ef7c3442d",
   "metadata": {},
   "outputs": [
    {
     "data": {
      "text/html": [
       "<div>\n",
       "<style scoped>\n",
       "    .dataframe tbody tr th:only-of-type {\n",
       "        vertical-align: middle;\n",
       "    }\n",
       "\n",
       "    .dataframe tbody tr th {\n",
       "        vertical-align: top;\n",
       "    }\n",
       "\n",
       "    .dataframe thead th {\n",
       "        text-align: right;\n",
       "    }\n",
       "</style>\n",
       "<table border=\"1\" class=\"dataframe\">\n",
       "  <thead>\n",
       "    <tr style=\"text-align: right;\">\n",
       "      <th></th>\n",
       "      <th>review_id</th>\n",
       "      <th>user_id</th>\n",
       "      <th>business_id</th>\n",
       "      <th>stars_x</th>\n",
       "      <th>useful</th>\n",
       "      <th>funny</th>\n",
       "      <th>cool</th>\n",
       "      <th>text</th>\n",
       "      <th>date</th>\n",
       "      <th>name</th>\n",
       "      <th>...</th>\n",
       "      <th>state</th>\n",
       "      <th>postal_code</th>\n",
       "      <th>latitude</th>\n",
       "      <th>longitude</th>\n",
       "      <th>stars_y</th>\n",
       "      <th>review_count</th>\n",
       "      <th>is_open</th>\n",
       "      <th>attributes</th>\n",
       "      <th>categories</th>\n",
       "      <th>hours</th>\n",
       "    </tr>\n",
       "  </thead>\n",
       "  <tbody>\n",
       "    <tr>\n",
       "      <th>0</th>\n",
       "      <td>KU_O5udG6zpxOg-VcAEodg</td>\n",
       "      <td>mh_-eMZ6K5RLWhZyISBhwA</td>\n",
       "      <td>XQfwVwDr-v0ZS3_CbbE5Xw</td>\n",
       "      <td>3</td>\n",
       "      <td>0</td>\n",
       "      <td>0</td>\n",
       "      <td>0</td>\n",
       "      <td>If you decide to eat here, just be aware it is...</td>\n",
       "      <td>2018-07-07 22:09:11</td>\n",
       "      <td>Turning Point of North Wales</td>\n",
       "      <td>...</td>\n",
       "      <td>PA</td>\n",
       "      <td>19454</td>\n",
       "      <td>40.210196</td>\n",
       "      <td>-75.223639</td>\n",
       "      <td>3.0</td>\n",
       "      <td>169</td>\n",
       "      <td>1</td>\n",
       "      <td>{'NoiseLevel': 'u'average'', 'HasTV': 'False',...</td>\n",
       "      <td>Restaurants, Breakfast &amp; Brunch, Food, Juice B...</td>\n",
       "      <td>{'Monday': '7:30-15:0', 'Tuesday': '7:30-15:0'...</td>\n",
       "    </tr>\n",
       "    <tr>\n",
       "      <th>1</th>\n",
       "      <td>BiTunyQ73aT9WBnpR9DZGw</td>\n",
       "      <td>OyoGAe7OKpv6SyGZT5g77Q</td>\n",
       "      <td>7ATYjTIgM3jUlt4UM3IypQ</td>\n",
       "      <td>5</td>\n",
       "      <td>1</td>\n",
       "      <td>0</td>\n",
       "      <td>1</td>\n",
       "      <td>I've taken a lot of spin classes over the year...</td>\n",
       "      <td>2012-01-03 15:28:18</td>\n",
       "      <td>Body Cycle Spinning Studio</td>\n",
       "      <td>...</td>\n",
       "      <td>PA</td>\n",
       "      <td>19119</td>\n",
       "      <td>39.952103</td>\n",
       "      <td>-75.172753</td>\n",
       "      <td>5.0</td>\n",
       "      <td>144</td>\n",
       "      <td>0</td>\n",
       "      <td>{'BusinessAcceptsCreditCards': 'True', 'GoodFo...</td>\n",
       "      <td>Active Life, Cycling Classes, Trainers, Gyms, ...</td>\n",
       "      <td>{'Monday': '6:30-20:30', 'Tuesday': '6:30-20:3...</td>\n",
       "    </tr>\n",
       "    <tr>\n",
       "      <th>2</th>\n",
       "      <td>saUsX_uimxRlCVr67Z4Jig</td>\n",
       "      <td>8g_iMtfSiwikVnbP2etR0A</td>\n",
       "      <td>YjUWPpI6HXG530lwP-fb2A</td>\n",
       "      <td>3</td>\n",
       "      <td>0</td>\n",
       "      <td>0</td>\n",
       "      <td>0</td>\n",
       "      <td>Family diner. Had the buffet. Eclectic assortm...</td>\n",
       "      <td>2014-02-05 20:30:30</td>\n",
       "      <td>Kettle Restaurant</td>\n",
       "      <td>...</td>\n",
       "      <td>AZ</td>\n",
       "      <td>85713</td>\n",
       "      <td>32.207233</td>\n",
       "      <td>-110.980864</td>\n",
       "      <td>3.5</td>\n",
       "      <td>47</td>\n",
       "      <td>1</td>\n",
       "      <td>{'RestaurantsReservations': 'True', 'BusinessP...</td>\n",
       "      <td>Restaurants, Breakfast &amp; Brunch</td>\n",
       "      <td>None</td>\n",
       "    </tr>\n",
       "    <tr>\n",
       "      <th>3</th>\n",
       "      <td>AqPFMleE6RsU23_auESxiA</td>\n",
       "      <td>_7bHUi9Uuf5__HHc_Q8guQ</td>\n",
       "      <td>kxX2SOes4o-D3ZQBkiMRfA</td>\n",
       "      <td>5</td>\n",
       "      <td>1</td>\n",
       "      <td>0</td>\n",
       "      <td>1</td>\n",
       "      <td>Wow!  Yummy, different,  delicious.   Our favo...</td>\n",
       "      <td>2015-01-04 00:01:03</td>\n",
       "      <td>Zaika</td>\n",
       "      <td>...</td>\n",
       "      <td>PA</td>\n",
       "      <td>19114</td>\n",
       "      <td>40.079848</td>\n",
       "      <td>-75.025080</td>\n",
       "      <td>4.0</td>\n",
       "      <td>181</td>\n",
       "      <td>1</td>\n",
       "      <td>{'Caters': 'True', 'Ambience': '{'romantic': F...</td>\n",
       "      <td>Halal, Pakistani, Restaurants, Indian</td>\n",
       "      <td>{'Tuesday': '11:0-21:0', 'Wednesday': '11:0-21...</td>\n",
       "    </tr>\n",
       "  </tbody>\n",
       "</table>\n",
       "<p>4 rows × 22 columns</p>\n",
       "</div>"
      ],
      "text/plain": [
       "                review_id                 user_id             business_id  \\\n",
       "0  KU_O5udG6zpxOg-VcAEodg  mh_-eMZ6K5RLWhZyISBhwA  XQfwVwDr-v0ZS3_CbbE5Xw   \n",
       "1  BiTunyQ73aT9WBnpR9DZGw  OyoGAe7OKpv6SyGZT5g77Q  7ATYjTIgM3jUlt4UM3IypQ   \n",
       "2  saUsX_uimxRlCVr67Z4Jig  8g_iMtfSiwikVnbP2etR0A  YjUWPpI6HXG530lwP-fb2A   \n",
       "3  AqPFMleE6RsU23_auESxiA  _7bHUi9Uuf5__HHc_Q8guQ  kxX2SOes4o-D3ZQBkiMRfA   \n",
       "\n",
       "   stars_x  useful  funny  cool  \\\n",
       "0        3       0      0     0   \n",
       "1        5       1      0     1   \n",
       "2        3       0      0     0   \n",
       "3        5       1      0     1   \n",
       "\n",
       "                                                text                date  \\\n",
       "0  If you decide to eat here, just be aware it is... 2018-07-07 22:09:11   \n",
       "1  I've taken a lot of spin classes over the year... 2012-01-03 15:28:18   \n",
       "2  Family diner. Had the buffet. Eclectic assortm... 2014-02-05 20:30:30   \n",
       "3  Wow!  Yummy, different,  delicious.   Our favo... 2015-01-04 00:01:03   \n",
       "\n",
       "                           name  ... state postal_code   latitude   longitude  \\\n",
       "0  Turning Point of North Wales  ...    PA       19454  40.210196  -75.223639   \n",
       "1    Body Cycle Spinning Studio  ...    PA       19119  39.952103  -75.172753   \n",
       "2             Kettle Restaurant  ...    AZ       85713  32.207233 -110.980864   \n",
       "3                         Zaika  ...    PA       19114  40.079848  -75.025080   \n",
       "\n",
       "   stars_y  review_count  is_open  \\\n",
       "0      3.0           169        1   \n",
       "1      5.0           144        0   \n",
       "2      3.5            47        1   \n",
       "3      4.0           181        1   \n",
       "\n",
       "                                          attributes  \\\n",
       "0  {'NoiseLevel': 'u'average'', 'HasTV': 'False',...   \n",
       "1  {'BusinessAcceptsCreditCards': 'True', 'GoodFo...   \n",
       "2  {'RestaurantsReservations': 'True', 'BusinessP...   \n",
       "3  {'Caters': 'True', 'Ambience': '{'romantic': F...   \n",
       "\n",
       "                                          categories  \\\n",
       "0  Restaurants, Breakfast & Brunch, Food, Juice B...   \n",
       "1  Active Life, Cycling Classes, Trainers, Gyms, ...   \n",
       "2                    Restaurants, Breakfast & Brunch   \n",
       "3              Halal, Pakistani, Restaurants, Indian   \n",
       "\n",
       "                                               hours  \n",
       "0  {'Monday': '7:30-15:0', 'Tuesday': '7:30-15:0'...  \n",
       "1  {'Monday': '6:30-20:30', 'Tuesday': '6:30-20:3...  \n",
       "2                                               None  \n",
       "3  {'Tuesday': '11:0-21:0', 'Wednesday': '11:0-21...  \n",
       "\n",
       "[4 rows x 22 columns]"
      ]
     },
     "execution_count": 12,
     "metadata": {},
     "output_type": "execute_result"
    }
   ],
   "source": [
    "merged_df.head(4)"
   ]
  },
  {
   "cell_type": "markdown",
   "id": "84318214-ddd6-4d13-9be4-191aec24c81a",
   "metadata": {},
   "source": [
    "# Shape and column of the merged dataset is displayed"
   ]
  },
  {
   "cell_type": "code",
   "execution_count": 13,
   "id": "dbc71690-2543-4afb-9055-0cedd302e272",
   "metadata": {},
   "outputs": [
    {
     "name": "stdout",
     "output_type": "stream",
     "text": [
      "Merged yolo dataset Shape: (1612228, 22)\n"
     ]
    }
   ],
   "source": [
    "print(\"Merged yolo dataset Shape:\",merged_df.shape)"
   ]
  },
  {
   "cell_type": "code",
   "execution_count": 14,
   "id": "f59d4cf7-eb52-4a72-bf2e-8bb97a629214",
   "metadata": {},
   "outputs": [
    {
     "data": {
      "text/plain": [
       "Index(['review_id', 'user_id', 'business_id', 'stars_x', 'useful', 'funny',\n",
       "       'cool', 'text', 'date', 'name', 'address', 'city', 'state',\n",
       "       'postal_code', 'latitude', 'longitude', 'stars_y', 'review_count',\n",
       "       'is_open', 'attributes', 'categories', 'hours'],\n",
       "      dtype='object')"
      ]
     },
     "execution_count": 14,
     "metadata": {},
     "output_type": "execute_result"
    }
   ],
   "source": [
    "merged_df.columns"
   ]
  },
  {
   "cell_type": "markdown",
   "id": "edd24987-e6de-47fa-90db-507fbb7c87f6",
   "metadata": {},
   "source": [
    "# Datatypes and null values are checked"
   ]
  },
  {
   "cell_type": "code",
   "execution_count": 15,
   "id": "70748886-9905-45ad-b0ed-8061cca00104",
   "metadata": {},
   "outputs": [
    {
     "data": {
      "text/plain": [
       "review_id               object\n",
       "user_id                 object\n",
       "business_id             object\n",
       "stars_x                  int64\n",
       "useful                   int64\n",
       "funny                    int64\n",
       "cool                     int64\n",
       "text                    object\n",
       "date            datetime64[ns]\n",
       "name                    object\n",
       "address                 object\n",
       "city                    object\n",
       "state                   object\n",
       "postal_code             object\n",
       "latitude               float64\n",
       "longitude              float64\n",
       "stars_y                float64\n",
       "review_count             int64\n",
       "is_open                  int64\n",
       "attributes              object\n",
       "categories              object\n",
       "hours                   object\n",
       "dtype: object"
      ]
     },
     "execution_count": 15,
     "metadata": {},
     "output_type": "execute_result"
    }
   ],
   "source": [
    "merged_df.dtypes"
   ]
  },
  {
   "cell_type": "code",
   "execution_count": 16,
   "id": "157cee1c-3443-4e12-9e06-b463fc22e948",
   "metadata": {},
   "outputs": [
    {
     "data": {
      "text/plain": [
       "review_id           0\n",
       "user_id             0\n",
       "business_id         0\n",
       "stars_x             0\n",
       "useful              0\n",
       "funny               0\n",
       "cool                0\n",
       "text                0\n",
       "date                0\n",
       "name                0\n",
       "address             0\n",
       "city                0\n",
       "state               0\n",
       "postal_code         0\n",
       "latitude            0\n",
       "longitude           0\n",
       "stars_y             0\n",
       "review_count        0\n",
       "is_open             0\n",
       "attributes      39593\n",
       "categories        152\n",
       "hours           90959\n",
       "dtype: int64"
      ]
     },
     "execution_count": 16,
     "metadata": {},
     "output_type": "execute_result"
    }
   ],
   "source": [
    "merged_df.isnull().sum()"
   ]
  },
  {
   "cell_type": "markdown",
   "id": "bb958473-8a5d-4631-9b01-1ba9e3c6d92c",
   "metadata": {},
   "source": [
    "Data cleaning to remove null values"
   ]
  },
  {
   "cell_type": "code",
   "execution_count": 17,
   "id": "907664ea-5af1-4a71-b8e4-6aea82a0bc32",
   "metadata": {},
   "outputs": [],
   "source": [
    "merged_df['hours'] = merged_df['hours'].fillna('unknown')\n",
    "merged_df['attributes'] = merged_df['attributes'].fillna('{}')\n",
    "merged_df['categories'] = merged_df['categories'].fillna('unknown')"
   ]
  },
  {
   "cell_type": "code",
   "execution_count": 18,
   "id": "52238666-d7b1-46ff-a1ee-b83a90645879",
   "metadata": {},
   "outputs": [
    {
     "data": {
      "text/plain": [
       "review_id       0\n",
       "user_id         0\n",
       "business_id     0\n",
       "stars_x         0\n",
       "useful          0\n",
       "funny           0\n",
       "cool            0\n",
       "text            0\n",
       "date            0\n",
       "name            0\n",
       "address         0\n",
       "city            0\n",
       "state           0\n",
       "postal_code     0\n",
       "latitude        0\n",
       "longitude       0\n",
       "stars_y         0\n",
       "review_count    0\n",
       "is_open         0\n",
       "attributes      0\n",
       "categories      0\n",
       "hours           0\n",
       "dtype: int64"
      ]
     },
     "execution_count": 18,
     "metadata": {},
     "output_type": "execute_result"
    }
   ],
   "source": [
    "merged_df.isnull().sum()"
   ]
  },
  {
   "cell_type": "markdown",
   "id": "be8bfd3e-7d28-446f-bb05-147493196ddf",
   "metadata": {},
   "source": [
    "Describe statistics of the merged dataset"
   ]
  },
  {
   "cell_type": "code",
   "execution_count": 19,
   "id": "27595488-3067-424e-bad7-8873bb8616c5",
   "metadata": {},
   "outputs": [
    {
     "data": {
      "text/html": [
       "<div>\n",
       "<style scoped>\n",
       "    .dataframe tbody tr th:only-of-type {\n",
       "        vertical-align: middle;\n",
       "    }\n",
       "\n",
       "    .dataframe tbody tr th {\n",
       "        vertical-align: top;\n",
       "    }\n",
       "\n",
       "    .dataframe thead th {\n",
       "        text-align: right;\n",
       "    }\n",
       "</style>\n",
       "<table border=\"1\" class=\"dataframe\">\n",
       "  <thead>\n",
       "    <tr style=\"text-align: right;\">\n",
       "      <th></th>\n",
       "      <th>stars_x</th>\n",
       "      <th>useful</th>\n",
       "      <th>funny</th>\n",
       "      <th>cool</th>\n",
       "      <th>date</th>\n",
       "      <th>latitude</th>\n",
       "      <th>longitude</th>\n",
       "      <th>stars_y</th>\n",
       "      <th>review_count</th>\n",
       "      <th>is_open</th>\n",
       "    </tr>\n",
       "  </thead>\n",
       "  <tbody>\n",
       "    <tr>\n",
       "      <th>count</th>\n",
       "      <td>1.612228e+06</td>\n",
       "      <td>1.612228e+06</td>\n",
       "      <td>1.612228e+06</td>\n",
       "      <td>1.612228e+06</td>\n",
       "      <td>1612228</td>\n",
       "      <td>1.612228e+06</td>\n",
       "      <td>1.612228e+06</td>\n",
       "      <td>1.612228e+06</td>\n",
       "      <td>1.612228e+06</td>\n",
       "      <td>1.612228e+06</td>\n",
       "    </tr>\n",
       "    <tr>\n",
       "      <th>mean</th>\n",
       "      <td>3.769188e+00</td>\n",
       "      <td>1.146299e+00</td>\n",
       "      <td>3.201563e-01</td>\n",
       "      <td>4.810517e-01</td>\n",
       "      <td>2016-10-25 03:43:06.642254848</td>\n",
       "      <td>3.605820e+01</td>\n",
       "      <td>-8.950185e+01</td>\n",
       "      <td>3.763533e+00</td>\n",
       "      <td>3.436885e+02</td>\n",
       "      <td>8.255104e-01</td>\n",
       "    </tr>\n",
       "    <tr>\n",
       "      <th>min</th>\n",
       "      <td>1.000000e+00</td>\n",
       "      <td>0.000000e+00</td>\n",
       "      <td>0.000000e+00</td>\n",
       "      <td>0.000000e+00</td>\n",
       "      <td>2005-03-01 16:57:17</td>\n",
       "      <td>2.755513e+01</td>\n",
       "      <td>-1.200951e+02</td>\n",
       "      <td>1.000000e+00</td>\n",
       "      <td>5.000000e+00</td>\n",
       "      <td>0.000000e+00</td>\n",
       "    </tr>\n",
       "    <tr>\n",
       "      <th>25%</th>\n",
       "      <td>3.000000e+00</td>\n",
       "      <td>0.000000e+00</td>\n",
       "      <td>0.000000e+00</td>\n",
       "      <td>0.000000e+00</td>\n",
       "      <td>2014-11-09 21:18:36.249999872</td>\n",
       "      <td>2.997543e+01</td>\n",
       "      <td>-9.029462e+01</td>\n",
       "      <td>3.500000e+00</td>\n",
       "      <td>4.600000e+01</td>\n",
       "      <td>1.000000e+00</td>\n",
       "    </tr>\n",
       "    <tr>\n",
       "      <th>50%</th>\n",
       "      <td>4.000000e+00</td>\n",
       "      <td>0.000000e+00</td>\n",
       "      <td>0.000000e+00</td>\n",
       "      <td>0.000000e+00</td>\n",
       "      <td>2017-02-26 13:19:03.500000</td>\n",
       "      <td>3.861702e+01</td>\n",
       "      <td>-8.619715e+01</td>\n",
       "      <td>4.000000e+00</td>\n",
       "      <td>1.410000e+02</td>\n",
       "      <td>1.000000e+00</td>\n",
       "    </tr>\n",
       "    <tr>\n",
       "      <th>75%</th>\n",
       "      <td>5.000000e+00</td>\n",
       "      <td>1.000000e+00</td>\n",
       "      <td>0.000000e+00</td>\n",
       "      <td>0.000000e+00</td>\n",
       "      <td>2019-02-18 23:26:45.249999872</td>\n",
       "      <td>3.994557e+01</td>\n",
       "      <td>-7.540065e+01</td>\n",
       "      <td>4.500000e+00</td>\n",
       "      <td>3.650000e+02</td>\n",
       "      <td>1.000000e+00</td>\n",
       "    </tr>\n",
       "    <tr>\n",
       "      <th>max</th>\n",
       "      <td>5.000000e+00</td>\n",
       "      <td>5.390000e+02</td>\n",
       "      <td>2.840000e+02</td>\n",
       "      <td>2.010000e+02</td>\n",
       "      <td>2022-01-19 19:47:59</td>\n",
       "      <td>5.364846e+01</td>\n",
       "      <td>-7.465857e+01</td>\n",
       "      <td>5.000000e+00</td>\n",
       "      <td>5.070000e+03</td>\n",
       "      <td>1.000000e+00</td>\n",
       "    </tr>\n",
       "    <tr>\n",
       "      <th>std</th>\n",
       "      <td>1.458551e+00</td>\n",
       "      <td>2.918509e+00</td>\n",
       "      <td>1.591784e+00</td>\n",
       "      <td>1.949834e+00</td>\n",
       "      <td>NaN</td>\n",
       "      <td>5.323797e+00</td>\n",
       "      <td>1.476030e+01</td>\n",
       "      <td>7.381736e-01</td>\n",
       "      <td>5.823979e+02</td>\n",
       "      <td>3.795301e-01</td>\n",
       "    </tr>\n",
       "  </tbody>\n",
       "</table>\n",
       "</div>"
      ],
      "text/plain": [
       "            stars_x        useful         funny          cool  \\\n",
       "count  1.612228e+06  1.612228e+06  1.612228e+06  1.612228e+06   \n",
       "mean   3.769188e+00  1.146299e+00  3.201563e-01  4.810517e-01   \n",
       "min    1.000000e+00  0.000000e+00  0.000000e+00  0.000000e+00   \n",
       "25%    3.000000e+00  0.000000e+00  0.000000e+00  0.000000e+00   \n",
       "50%    4.000000e+00  0.000000e+00  0.000000e+00  0.000000e+00   \n",
       "75%    5.000000e+00  1.000000e+00  0.000000e+00  0.000000e+00   \n",
       "max    5.000000e+00  5.390000e+02  2.840000e+02  2.010000e+02   \n",
       "std    1.458551e+00  2.918509e+00  1.591784e+00  1.949834e+00   \n",
       "\n",
       "                                date      latitude     longitude  \\\n",
       "count                        1612228  1.612228e+06  1.612228e+06   \n",
       "mean   2016-10-25 03:43:06.642254848  3.605820e+01 -8.950185e+01   \n",
       "min              2005-03-01 16:57:17  2.755513e+01 -1.200951e+02   \n",
       "25%    2014-11-09 21:18:36.249999872  2.997543e+01 -9.029462e+01   \n",
       "50%       2017-02-26 13:19:03.500000  3.861702e+01 -8.619715e+01   \n",
       "75%    2019-02-18 23:26:45.249999872  3.994557e+01 -7.540065e+01   \n",
       "max              2022-01-19 19:47:59  5.364846e+01 -7.465857e+01   \n",
       "std                              NaN  5.323797e+00  1.476030e+01   \n",
       "\n",
       "            stars_y  review_count       is_open  \n",
       "count  1.612228e+06  1.612228e+06  1.612228e+06  \n",
       "mean   3.763533e+00  3.436885e+02  8.255104e-01  \n",
       "min    1.000000e+00  5.000000e+00  0.000000e+00  \n",
       "25%    3.500000e+00  4.600000e+01  1.000000e+00  \n",
       "50%    4.000000e+00  1.410000e+02  1.000000e+00  \n",
       "75%    4.500000e+00  3.650000e+02  1.000000e+00  \n",
       "max    5.000000e+00  5.070000e+03  1.000000e+00  \n",
       "std    7.381736e-01  5.823979e+02  3.795301e-01  "
      ]
     },
     "execution_count": 19,
     "metadata": {},
     "output_type": "execute_result"
    }
   ],
   "source": [
    "merged_df.describe()"
   ]
  },
  {
   "cell_type": "markdown",
   "id": "f1b0487c-d732-4d6a-8c55-92d5ae6a38c0",
   "metadata": {},
   "source": [
    "# Preprocess text function"
   ]
  },
  {
   "cell_type": "code",
   "execution_count": 22,
   "id": "7ee7dbcb-9499-43c6-a81f-accc450cdc2d",
   "metadata": {},
   "outputs": [],
   "source": [
    "def pre_process(text):\n",
    "    text = text.apply(lambda x: x.lower() if isinstance(x, str) else \"\") \n",
    "    text = text.apply(lambda x: re.sub(r'[^\\w\\s]', '', x)) \n",
    "    return text"
   ]
  },
  {
   "cell_type": "markdown",
   "id": "1c727adf-0bc7-4cf5-b2a3-641527854f41",
   "metadata": {},
   "source": [
    "# Entity extraction"
   ]
  },
  {
   "cell_type": "code",
   "execution_count": 23,
   "id": "4845bccc-d3ac-4c58-91e7-3930064e3d9a",
   "metadata": {},
   "outputs": [],
   "source": [
    "def extract_entities(text):\n",
    "    nlp=spacy.load(\"en_core_web_sm\")\n",
    "    doc=nlp(text)\n",
    "    entities=[(ent.text,ent.label_) for ent in doc.ents]\n",
    "    return entities"
   ]
  },
  {
   "cell_type": "markdown",
   "id": "50c98f02-dd18-434f-877a-d49c3f663f94",
   "metadata": {},
   "source": [
    "# Sentiment Analysis"
   ]
  },
  {
   "cell_type": "code",
   "execution_count": 24,
   "id": "685de590-a899-471b-8800-df7abe1da28a",
   "metadata": {},
   "outputs": [],
   "source": [
    "def analyze_sentiment(text):\n",
    "    blob=TextBlob(text)\n",
    "    sentiment_score=blob.sentiment.polarity\n",
    "    if sentiment_score>0:\n",
    "        sentiment_label='positive'\n",
    "    elif sentiment_score<0:\n",
    "         sentiment_label='negative'\n",
    "    else:\n",
    "         sentiment_label='neutral'\n",
    "    return {\"label\":sentiment_label,\"score\":sentiment_score}"
   ]
  },
  {
   "cell_type": "markdown",
   "id": "2379afdf-03b4-4f91-b724-7226822e9240",
   "metadata": {},
   "source": [
    "# Wordcloud"
   ]
  },
  {
   "cell_type": "code",
   "execution_count": 25,
   "id": "d07a9bf7-a6f1-473e-8116-fa6cdd201b90",
   "metadata": {},
   "outputs": [],
   "source": [
    "def wordcloud(text):\n",
    "    wordcloud=WordCloud().generate(text)\n",
    "    plt.figure(figsize=(10,4))\n",
    "    plt.imshow(wordcloud,interpolation='bilinear')\n",
    "    plt.axis('off')\n",
    "    plt.show()"
   ]
  },
  {
   "cell_type": "markdown",
   "id": "e59176d2-62a5-4900-814a-ae33ecc554f7",
   "metadata": {},
   "source": [
    "# Insight extraction"
   ]
  },
  {
   "cell_type": "code",
   "execution_count": 26,
   "id": "6845e920-da4b-4bd2-a9bf-227967fbf8ee",
   "metadata": {},
   "outputs": [],
   "source": [
    "def extract_insights(entities, sentiment_result):\n",
    "    insights = {\n",
    "        \"Key entities:\": entities,\n",
    "        \"Overall sentiment:\": sentiment_result[\"label\"],\n",
    "        \"Sentiment Score:\": sentiment_result[\"score\"]\n",
    "    }\n",
    "    return insights\n"
   ]
  },
  {
   "cell_type": "markdown",
   "id": "d4cc199e-332b-46e4-8ded-abf68b807892",
   "metadata": {},
   "source": [
    "# Demo for sentiment analysis"
   ]
  },
  {
   "cell_type": "code",
   "execution_count": null,
   "id": "7f9255bc-a555-442a-8e14-691f31999822",
   "metadata": {},
   "outputs": [],
   "source": []
  },
  {
   "cell_type": "code",
   "execution_count": 32,
   "id": "60209438-a4b1-4f39-bb74-8e4f6a9879c4",
   "metadata": {},
   "outputs": [],
   "source": [
    "merged_df=merged_df[:100000] #due to memory constraints"
   ]
  },
  {
   "cell_type": "code",
   "execution_count": 33,
   "id": "1ea52f7f-e871-4393-9314-984483ddffd5",
   "metadata": {},
   "outputs": [
    {
     "data": {
      "text/plain": [
       "(100000, 23)"
      ]
     },
     "execution_count": 33,
     "metadata": {},
     "output_type": "execute_result"
    }
   ],
   "source": [
    "merged_df=merged_df[:100000]\n",
    "merged_df.shape"
   ]
  },
  {
   "cell_type": "code",
   "execution_count": 34,
   "id": "1bdae261-ba23-4100-9f11-607e73cd63eb",
   "metadata": {},
   "outputs": [],
   "source": [
    "merged_df=merged_df[:100000]"
   ]
  },
  {
   "cell_type": "code",
   "execution_count": 44,
   "id": "aaf5bdca-006d-4c97-b710-55d234559a0b",
   "metadata": {},
   "outputs": [],
   "source": [
    "# first 100000 samples are taken due to memory constraints\n",
    "merged_df=merged_df[:5000]\n",
    "text_preprocessed=text_preprocessed[:5000]"
   ]
  },
  {
   "cell_type": "code",
   "execution_count": 45,
   "id": "5ae5a4b1-dfd6-4eb6-8d07-34c80125ad2e",
   "metadata": {},
   "outputs": [
    {
     "name": "stdout",
     "output_type": "stream",
     "text": [
      "Text preprocessed: 0       if you decide to eat here just be aware it is ...\n",
      "1       ive taken a lot of spin classes over the years...\n",
      "2       family diner had the buffet eclectic assortmen...\n",
      "3       wow  yummy different  delicious   our favorite...\n",
      "4       cute interior and owner  gave us tour of upcom...\n",
      "                              ...                        \n",
      "4995    after trying the pizza here on halloween night...\n",
      "4996    went here today with my family and i must say ...\n",
      "4997    my room was disgusting the odor when i walked ...\n",
      "4998    first time my girlfriend and i came here and i...\n",
      "4999    by far the worst effort at chain mexican food ...\n",
      "Name: text, Length: 5000, dtype: object\n",
      "------------------------------------------------------------------------------------------------------------------\n",
      "entities: [('about 2 hours', 'TIME')]\n",
      "------------------------------------------------------------------------------------------------------------------\n",
      "Sentiment: {'label': 'positive', 'score': 0.08527777777777779}\n",
      "------------------------------------------------------------------------------------------------------------------\n"
     ]
    },
    {
     "data": {
      "image/png": "[encoded data removed]",
      "text/plain": [
       "<Figure size 1000x400 with 1 Axes>"
      ]
     },
     "metadata": {},
     "output_type": "display_data"
    },
    {
     "name": "stdout",
     "output_type": "stream",
     "text": [
      "None\n",
      "------------------------------------------------------------------------------------------------------------------\n",
      "Insights:\n",
      "{'Key entities:': [('about 2 hours', 'TIME')], 'Overall sentiment:': 'positive', 'Sentiment Score:': 0.08527777777777779}\n"
     ]
    }
   ],
   "source": [
    "text=merged_df['text']\n",
    "text_preprocessed=pre_process(text)\n",
    "print(\"Text preprocessed:\",text_preprocessed)\n",
    "print(\"------------------------------------------------------------------------------------------------------------------\")\n",
    "entities=extract_entities(text_preprocessed[0])\n",
    "print(\"entities:\",entities)\n",
    "print(\"------------------------------------------------------------------------------------------------------------------\")\n",
    "sentiment=analyze_sentiment(text_preprocessed[0])\n",
    "print(\"Sentiment:\",sentiment)\n",
    "print(\"------------------------------------------------------------------------------------------------------------------\")\n",
    "word_cloud=wordcloud(text_preprocessed[0])\n",
    "print(word_cloud)\n",
    "print(\"------------------------------------------------------------------------------------------------------------------\")\n",
    "insight=extract_insights(entities,sentiment)\n",
    "print(\"Insights:\")\n",
    "print(insight)"
   ]
  },
  {
   "cell_type": "markdown",
   "id": "01c6eb3d-ecfb-464a-8891-1e80f14c5707",
   "metadata": {},
   "source": [
    "# Tf-idf vectorizer for content-based filtering"
   ]
  },
  {
   "cell_type": "code",
   "execution_count": 46,
   "id": "b91a49b6-e784-4c49-b874-faad1cce47e8",
   "metadata": {},
   "outputs": [],
   "source": [
    "merged_df['sentiment']=text_preprocessed.apply(analyze_sentiment)"
   ]
  },
  {
   "cell_type": "code",
   "execution_count": 47,
   "id": "2a6bf496-e49d-453a-8543-3c3b00c4dd05",
   "metadata": {},
   "outputs": [],
   "source": [
    "tfidf = TfidfVectorizer(stop_words='english')\n",
    "tfidf_matrix = tfidf.fit_transform(text_preprocessed.values.astype('U'))\n",
    "cosine_sim = cosine_similarity(tfidf_matrix, tfidf_matrix)"
   ]
  },
  {
   "cell_type": "markdown",
   "id": "fd0a3c2b-9e08-49ae-8a39-cda6306f6578",
   "metadata": {},
   "source": [
    "# Create User Profiles"
   ]
  },
  {
   "cell_type": "code",
   "execution_count": 57,
   "id": "baf464f8-d706-48d8-b73b-0b250b8a4319",
   "metadata": {},
   "outputs": [],
   "source": [
    "user_profiles = merged_df.groupby('user_id').agg({\n",
    "    'text': ' '.join,\n",
    "    'sentiment': lambda x: np.mean([item['score'] for item in x])\n",
    "}).reset_index()"
   ]
  },
  {
   "cell_type": "code",
   "execution_count": 58,
   "id": "705ccf8b-fa08-4087-bf34-be886d398c9b",
   "metadata": {},
   "outputs": [
    {
     "name": "stdout",
     "output_type": "stream",
     "text": [
      "User profiles created: (4843, 4)\n"
     ]
    }
   ],
   "source": [
    "user_profiles['tfidf'] = list(tfidf.transform(user_profiles['text'].values.astype('U')).toarray())\n",
    "print(f\"User profiles created: {user_profiles.shape}\")"
   ]
  },
  {
   "cell_type": "markdown",
   "id": "7fa5293b-0909-4ce4-897f-a92a8f5a9489",
   "metadata": {},
   "source": [
    "# Recommendation system"
   ]
  },
  {
   "cell_type": "code",
   "execution_count": 63,
   "id": "250e93c4-7e02-4842-9862-96a89be62f79",
   "metadata": {},
   "outputs": [],
   "source": [
    "def recommend_for_user(user_id, top_n=5):\n",
    "    \n",
    "    user_profile = user_profiles[user_profiles['user_id'] == user_id]['tfidf'].values[0]\n",
    "    user_profile_reshaped = user_profile.reshape(1, -1)\n",
    "    scores = cosine_similarity(user_profile_reshaped, tfidf_matrix)\n",
    "    top_indices = np.argsort(scores[0])[::-1][:top_n]\n",
    "    columns_to_select = ['business_id', 'name', 'categories', 'sentiment']\n",
    "    if 'stars' in sampled_df.columns:\n",
    "        columns_to_select.append('stars')\n",
    "    recommendations = sampled_df.iloc[top_indices][columns_to_select]\n",
    "    return recommendations\n"
   ]
  },
  {
   "cell_type": "code",
   "execution_count": 64,
   "id": "9bee954c-8650-4b36-a5b3-e722d39022f3",
   "metadata": {},
   "outputs": [
    {
     "name": "stdout",
     "output_type": "stream",
     "text": [
      "Sample User ID: 19FLqyu1rhuvTDAJ9QKQaQ\n"
     ]
    }
   ],
   "source": [
    "sample_user_id = user_profiles['user_id'].sample(1).values[0]\n",
    "print(f\"Sample User ID: {sample_user_id}\")"
   ]
  },
  {
   "cell_type": "code",
   "execution_count": 65,
   "id": "a0748c2f-ed71-4375-ab77-94f93cd9d36c",
   "metadata": {},
   "outputs": [],
   "source": [
    "recommendations = recommend_for_user(sample_user_id, top_n=5)"
   ]
  },
  {
   "cell_type": "code",
   "execution_count": 66,
   "id": "12b11e21-3f69-4e73-a2d2-39813ac0aa45",
   "metadata": {},
   "outputs": [
    {
     "name": "stdout",
     "output_type": "stream",
     "text": [
      "\n",
      "Personalized Recommendations:\n",
      "                    business_id  \\\n",
      "193527   sr-5EY6bmp4jINhea06MjA   \n",
      "1473532  jQNmnjrNd1tJXOg9bfB5hA   \n",
      "1383725  3TDyV2_iO9UhQ2NDigbQmA   \n",
      "1462293  30cpm1uq6xcQCmN6JTrB8w   \n",
      "221125   CYwC5OjwCN6ib_AQDxi3Ow   \n",
      "\n",
      "                                                      name  \\\n",
      "193527   The Cake Bake Shop by Gwendolyn Rogers-Broad R...   \n",
      "1473532                                  St Charles Tavern   \n",
      "1383725                               Flanigan's Boathouse   \n",
      "1462293                         Luke's Lobster Rittenhouse   \n",
      "221125                                     In-N-Out Burger   \n",
      "\n",
      "                                                categories  \\\n",
      "193527   Restaurants, Bakeries, Desserts, Patisserie/Ca...   \n",
      "1473532              Restaurants, Burgers, Bars, Nightlife   \n",
      "1383725  American (New), Nightlife, Bars, Seafood, Beer...   \n",
      "1462293                   Sandwiches, Seafood, Restaurants   \n",
      "221125                     Restaurants, Fast Food, Burgers   \n",
      "\n",
      "                                                 sentiment  \n",
      "193527   {'label': 'positive', 'score': 0.0917460317460...  \n",
      "1473532  {'label': 'positive', 'score': 0.2928571428571...  \n",
      "1383725             {'label': 'positive', 'score': 0.4125}  \n",
      "1462293  {'label': 'positive', 'score': 0.1026515151515...  \n",
      "221125   {'label': 'positive', 'score': 0.0714285714285...  \n"
     ]
    }
   ],
   "source": [
    "print(\"\\nPersonalized Recommendations:\")\n",
    "print(recommendations[['business_id', 'name', 'categories', 'sentiment']])\n"
   ]
  },
  {
   "cell_type": "code",
   "execution_count": null,
   "id": "976dbfdb-ca39-41c8-af44-cdc6f00a564d",
   "metadata": {},
   "outputs": [],
   "source": []
  }
 ],
 "metadata": {
  "kernelspec": {
   "display_name": "Python 3 (ipykernel)",
   "language": "python",
   "name": "python3"
  },
  "language_info": {
   "codemirror_mode": {
    "name": "ipython",
    "version": 3
   },
   "file_extension": ".py",
   "mimetype": "text/x-python",
   "name": "python",
   "nbconvert_exporter": "python",
   "pygments_lexer": "ipython3",
   "version": "3.12.0"
  }
 },
 "nbformat": 4,
 "nbformat_minor": 5
}
